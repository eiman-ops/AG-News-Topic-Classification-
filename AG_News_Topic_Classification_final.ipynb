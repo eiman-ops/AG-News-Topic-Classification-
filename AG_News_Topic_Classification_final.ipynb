{
  "nbformat": 4,
  "nbformat_minor": 0,
  "metadata": {
    "colab": {
      "name": "AG News Topic Classification final.ipynb",
      "provenance": [],
      "collapsed_sections": [
        "l063yaBfDJ36",
        "D081dRrF14dP",
        "spL74KzNDv8G",
        "TVa9yaZwEB1p",
        "sVD7Ekyp8Zml",
        "_GFtWZGEFkVm",
        "xRl9bfuOFVm6",
        "D9EPSoukFHcr",
        "-pHqyqy8FwaJ",
        "iuXOVX5N9jPt",
        "dZNKgsGjJAOs",
        "vVaL-q3XIxnU",
        "XBxgZtWnKSUa"
      ],
      "authorship_tag": "ABX9TyOQKwkhe61DDhNudxGZfSOh",
      "include_colab_link": true
    },
    "kernelspec": {
      "name": "python3",
      "display_name": "Python 3"
    },
    "accelerator": "GPU"
  },
  "cells": [
    {
      "cell_type": "markdown",
      "metadata": {
        "id": "view-in-github",
        "colab_type": "text"
      },
      "source": [
        "<a href=\"https://colab.research.google.com/github/eiman-ops/AG-News-Topic-Classification-/blob/main/AG_News_Topic_Classification_final.ipynb\" target=\"_parent\"><img src=\"https://colab.research.google.com/assets/colab-badge.svg\" alt=\"Open In Colab\"/></a>"
      ]
    },
    {
      "cell_type": "markdown",
      "metadata": {
        "id": "l063yaBfDJ36"
      },
      "source": [
        "### **Importing the data**"
      ]
    },
    {
      "cell_type": "code",
      "metadata": {
        "colab": {
          "base_uri": "https://localhost:8080/"
        },
        "id": "XNgFqS5v1b1G",
        "outputId": "b56b5d07-0cc0-4cd8-9c54-f7b12e25f6ad"
      },
      "source": [
        "!pip install -Uqq fastbook\r\n",
        "import fastbook\r\n",
        "fastbook.setup_book()"
      ],
      "execution_count": 1,
      "outputs": [
        {
          "output_type": "stream",
          "text": [
            "\u001b[K     |████████████████████████████████| 727kB 9.3MB/s \n",
            "\u001b[K     |████████████████████████████████| 194kB 19.6MB/s \n",
            "\u001b[K     |████████████████████████████████| 51kB 7.8MB/s \n",
            "\u001b[K     |████████████████████████████████| 1.2MB 19.6MB/s \n",
            "\u001b[K     |████████████████████████████████| 61kB 9.6MB/s \n",
            "\u001b[?25hMounted at /content/gdrive\n"
          ],
          "name": "stdout"
        }
      ]
    },
    {
      "cell_type": "code",
      "metadata": {
        "id": "qZqHfb9C1gh2"
      },
      "source": [
        "from fastai.text.all import *\r\n",
        "import pandas as pd\r\n",
        "from fastbook import *"
      ],
      "execution_count": 2,
      "outputs": []
    },
    {
      "cell_type": "code",
      "metadata": {
        "colab": {
          "base_uri": "https://localhost:8080/"
        },
        "id": "MDMwVC251i6B",
        "outputId": "982fb97c-4aac-47f9-a884-e17f4bc399fb"
      },
      "source": [
        "from google.colab import drive\r\n",
        "drive.mount(\"/content/drive\", force_remount=True)\r\n",
        "root_dir = 'gdrive/My Drive/UnpackAi2/AG-News-Topics/'\r\n",
        "base_dir = root_dir + 'AG-News-Topics'"
      ],
      "execution_count": 3,
      "outputs": [
        {
          "output_type": "stream",
          "text": [
            "Mounted at /content/drive\n"
          ],
          "name": "stdout"
        }
      ]
    },
    {
      "cell_type": "code",
      "metadata": {
        "colab": {
          "base_uri": "https://localhost:8080/"
        },
        "id": "rk7xlevA1pBO",
        "outputId": "50f7efa2-017d-4ca8-9803-56b3ee88191a"
      },
      "source": [
        "path = Path('/content/drive/My Drive/UnpackAi2/AG-News-Topics/')\r\n",
        "path.ls()"
      ],
      "execution_count": 4,
      "outputs": [
        {
          "output_type": "execute_result",
          "data": {
            "text/plain": [
              "(#3) [Path('/content/drive/My Drive/UnpackAi2/AG-News-Topics/train.csv'),Path('/content/drive/My Drive/UnpackAi2/AG-News-Topics/test.csv'),Path('/content/drive/My Drive/UnpackAi2/AG-News-Topics/Model')]"
            ]
          },
          "metadata": {
            "tags": []
          },
          "execution_count": 4
        }
      ]
    },
    {
      "cell_type": "markdown",
      "metadata": {
        "id": "D081dRrF14dP"
      },
      "source": [
        "# **Language model**"
      ]
    },
    {
      "cell_type": "markdown",
      "metadata": {
        "id": "spL74KzNDv8G"
      },
      "source": [
        "### Creating DataLoaders for the Language Model"
      ]
    },
    {
      "cell_type": "code",
      "metadata": {
        "colab": {
          "base_uri": "https://localhost:8080/",
          "height": 0
        },
        "id": "_cdzvJBR2Ehy",
        "outputId": "67ada87c-97a7-47ff-d15a-201f23d12545"
      },
      "source": [
        "dl_lm = TextDataLoaders.from_csv(path=path, csv_fname='train.csv' ,\r\n",
        "                                 text_col='Title', label_col='Class', is_lm=True, seq_len=72 , bs=64)\r\n",
        "dl_lm.show_batch(max_n=3)"
      ],
      "execution_count": 7,
      "outputs": [
        {
          "output_type": "display_data",
          "data": {
            "text/html": [
              ""
            ],
            "text/plain": [
              "<IPython.core.display.HTML object>"
            ]
          },
          "metadata": {
            "tags": []
          }
        },
        {
          "output_type": "stream",
          "text": [
            "/usr/local/lib/python3.6/dist-packages/numpy/core/_asarray.py:83: VisibleDeprecationWarning: Creating an ndarray from ragged nested sequences (which is a list-or-tuple of lists-or-tuples-or ndarrays with different lengths or shapes) is deprecated. If you meant to do this, you must specify 'dtype=object' when creating the ndarray\n",
            "  return array(a, dtype, copy=False, order=order)\n"
          ],
          "name": "stderr"
        },
        {
          "output_type": "display_data",
          "data": {
            "text/html": [
              "<table border=\"1\" class=\"dataframe\">\n",
              "  <thead>\n",
              "    <tr style=\"text-align: right;\">\n",
              "      <th></th>\n",
              "      <th>text</th>\n",
              "      <th>text_</th>\n",
              "    </tr>\n",
              "  </thead>\n",
              "  <tbody>\n",
              "    <tr>\n",
              "      <th>0</th>\n",
              "      <td>xxbos xxmaj bangladesh crash to xxmaj mills pace xxbos xxmaj edward xxup c. xxmaj baig : xxmaj personal xxmaj tech - xxmaj express takes digital music a step further , but it 's no ipod ( usatoday.com ) xxbos nbc 's five - ring xxmaj circus xxbos xxmaj jaguar confirms cut in production xxbos xxmaj eisner xxmaj will xxmaj end xxmaj reign at xxmaj disney xxbos xxmaj newest ipod xxmaj from xxmaj</td>\n",
              "      <td>xxmaj bangladesh crash to xxmaj mills pace xxbos xxmaj edward xxup c. xxmaj baig : xxmaj personal xxmaj tech - xxmaj express takes digital music a step further , but it 's no ipod ( usatoday.com ) xxbos nbc 's five - ring xxmaj circus xxbos xxmaj jaguar confirms cut in production xxbos xxmaj eisner xxmaj will xxmaj end xxmaj reign at xxmaj disney xxbos xxmaj newest ipod xxmaj from xxmaj apple</td>\n",
              "    </tr>\n",
              "    <tr>\n",
              "      <th>1</th>\n",
              "      <td>xxmaj first xxmaj round xxbos xxmaj xxunk xxunk raped tens of thousands in xxmaj congo : xxmaj amnesty report ( canadian xxmaj press ) xxbos xxmaj abbott to xxmaj buy xxmaj nutrition xxmaj company xxup eas xxbos xxmaj constellation xxmaj agrees to xxmaj acquire xxmaj robert xxmaj mondavi for \\ $ 1 xxmaj billion xxbos xxup hbos cries foul as xxmaj monti ' favours ' bid xxbos xxmaj mutu 's agent hits</td>\n",
              "      <td>first xxmaj round xxbos xxmaj xxunk xxunk raped tens of thousands in xxmaj congo : xxmaj amnesty report ( canadian xxmaj press ) xxbos xxmaj abbott to xxmaj buy xxmaj nutrition xxmaj company xxup eas xxbos xxmaj constellation xxmaj agrees to xxmaj acquire xxmaj robert xxmaj mondavi for \\ $ 1 xxmaj billion xxbos xxup hbos cries foul as xxmaj monti ' favours ' bid xxbos xxmaj mutu 's agent hits out</td>\n",
              "    </tr>\n",
              "    <tr>\n",
              "      <th>2</th>\n",
              "      <td>payton xxmaj award ( ap ) xxbos xxup ecb sees gradual recovery in eurozone area xxbos xxmaj german swoop on online piracy site nets thousands of user names ( afp ) xxbos xxup abn xxup amro xxmaj leads xxmaj european xxmaj shares xxmaj higher xxbos xxmaj citigroup 's ex - exec xxmaj may xxmaj face xxup sec xxmaj action xxbos xxmaj braves xxmaj edge xxmaj dodgers 6 - 5 xxbos xxmaj bush</td>\n",
              "      <td>xxmaj award ( ap ) xxbos xxup ecb sees gradual recovery in eurozone area xxbos xxmaj german swoop on online piracy site nets thousands of user names ( afp ) xxbos xxup abn xxup amro xxmaj leads xxmaj european xxmaj shares xxmaj higher xxbos xxmaj citigroup 's ex - exec xxmaj may xxmaj face xxup sec xxmaj action xxbos xxmaj braves xxmaj edge xxmaj dodgers 6 - 5 xxbos xxmaj bush preaches</td>\n",
              "    </tr>\n",
              "  </tbody>\n",
              "</table>"
            ],
            "text/plain": [
              "<IPython.core.display.HTML object>"
            ]
          },
          "metadata": {
            "tags": []
          }
        }
      ]
    },
    {
      "cell_type": "markdown",
      "metadata": {
        "id": "TVa9yaZwEB1p"
      },
      "source": [
        "### Creating the Language Model"
      ]
    },
    {
      "cell_type": "code",
      "metadata": {
        "colab": {
          "base_uri": "https://localhost:8080/",
          "height": 0
        },
        "id": "BiodQuNU3QmR",
        "outputId": "f0bb9806-54e8-4c80-a588-0ddd3397638c"
      },
      "source": [
        "learn = language_model_learner(\r\n",
        "   dl_lm, AWD_LSTM, drop_mult=0.3, \r\n",
        "    metrics=[accuracy, Perplexity()]).to_fp16()"
      ],
      "execution_count": 8,
      "outputs": [
        {
          "output_type": "display_data",
          "data": {
            "text/html": [
              ""
            ],
            "text/plain": [
              "<IPython.core.display.HTML object>"
            ]
          },
          "metadata": {
            "tags": []
          }
        }
      ]
    },
    {
      "cell_type": "code",
      "metadata": {
        "colab": {
          "base_uri": "https://localhost:8080/"
        },
        "id": "JthKWhYn3TCA",
        "outputId": "0e9ce10c-ec4c-4615-acc1-ad55e01947be"
      },
      "source": [
        "learn"
      ],
      "execution_count": 9,
      "outputs": [
        {
          "output_type": "execute_result",
          "data": {
            "text/plain": [
              "<fastai.text.learner.LMLearner at 0x7fc8fa86a898>"
            ]
          },
          "metadata": {
            "tags": []
          },
          "execution_count": 9
        }
      ]
    },
    {
      "cell_type": "code",
      "metadata": {
        "colab": {
          "base_uri": "https://localhost:8080/",
          "height": 0
        },
        "id": "HgAqgUZ63Xog",
        "outputId": "0db99e43-78c4-4c81-c959-ab97cdccb407"
      },
      "source": [
        "learn.fit_one_cycle(1, 2e-2)"
      ],
      "execution_count": 10,
      "outputs": [
        {
          "output_type": "display_data",
          "data": {
            "text/html": [
              "<table border=\"1\" class=\"dataframe\">\n",
              "  <thead>\n",
              "    <tr style=\"text-align: left;\">\n",
              "      <th>epoch</th>\n",
              "      <th>train_loss</th>\n",
              "      <th>valid_loss</th>\n",
              "      <th>accuracy</th>\n",
              "      <th>perplexity</th>\n",
              "      <th>time</th>\n",
              "    </tr>\n",
              "  </thead>\n",
              "  <tbody>\n",
              "    <tr>\n",
              "      <td>0</td>\n",
              "      <td>3.861618</td>\n",
              "      <td>3.706181</td>\n",
              "      <td>0.423632</td>\n",
              "      <td>40.698093</td>\n",
              "      <td>01:53</td>\n",
              "    </tr>\n",
              "  </tbody>\n",
              "</table>"
            ],
            "text/plain": [
              "<IPython.core.display.HTML object>"
            ]
          },
          "metadata": {
            "tags": []
          }
        }
      ]
    },
    {
      "cell_type": "code",
      "metadata": {
        "colab": {
          "base_uri": "https://localhost:8080/",
          "height": 0
        },
        "id": "4NBREGO63aav",
        "outputId": "a3456938-a34b-46a1-e779-134546c5e78f"
      },
      "source": [
        "learn.unfreeze()\r\n",
        "learn.fit_one_cycle(5, 2e-3)"
      ],
      "execution_count": 11,
      "outputs": [
        {
          "output_type": "display_data",
          "data": {
            "text/html": [
              "<table border=\"1\" class=\"dataframe\">\n",
              "  <thead>\n",
              "    <tr style=\"text-align: left;\">\n",
              "      <th>epoch</th>\n",
              "      <th>train_loss</th>\n",
              "      <th>valid_loss</th>\n",
              "      <th>accuracy</th>\n",
              "      <th>perplexity</th>\n",
              "      <th>time</th>\n",
              "    </tr>\n",
              "  </thead>\n",
              "  <tbody>\n",
              "    <tr>\n",
              "      <td>0</td>\n",
              "      <td>3.357683</td>\n",
              "      <td>3.483979</td>\n",
              "      <td>0.444683</td>\n",
              "      <td>32.589138</td>\n",
              "      <td>01:52</td>\n",
              "    </tr>\n",
              "    <tr>\n",
              "      <td>1</td>\n",
              "      <td>3.189121</td>\n",
              "      <td>3.363207</td>\n",
              "      <td>0.457997</td>\n",
              "      <td>28.881655</td>\n",
              "      <td>01:54</td>\n",
              "    </tr>\n",
              "    <tr>\n",
              "      <td>2</td>\n",
              "      <td>2.931424</td>\n",
              "      <td>3.331253</td>\n",
              "      <td>0.466356</td>\n",
              "      <td>27.973358</td>\n",
              "      <td>01:53</td>\n",
              "    </tr>\n",
              "    <tr>\n",
              "      <td>3</td>\n",
              "      <td>2.579038</td>\n",
              "      <td>3.346513</td>\n",
              "      <td>0.471478</td>\n",
              "      <td>28.403526</td>\n",
              "      <td>01:53</td>\n",
              "    </tr>\n",
              "    <tr>\n",
              "      <td>4</td>\n",
              "      <td>2.365739</td>\n",
              "      <td>3.396025</td>\n",
              "      <td>0.470423</td>\n",
              "      <td>29.845221</td>\n",
              "      <td>01:52</td>\n",
              "    </tr>\n",
              "  </tbody>\n",
              "</table>"
            ],
            "text/plain": [
              "<IPython.core.display.HTML object>"
            ]
          },
          "metadata": {
            "tags": []
          }
        }
      ]
    },
    {
      "cell_type": "markdown",
      "metadata": {
        "id": "qWioL0QMIPls"
      },
      "source": [
        "Saving the Language Model"
      ]
    },
    {
      "cell_type": "code",
      "metadata": {
        "colab": {
          "base_uri": "https://localhost:8080/"
        },
        "id": "JzlOU96U3dqr",
        "outputId": "1aac75b3-39a7-4de7-dcda-eb28a8ac8fa9"
      },
      "source": [
        "learn.save('model',with_opt=True)"
      ],
      "execution_count": 18,
      "outputs": [
        {
          "output_type": "execute_result",
          "data": {
            "text/plain": [
              "Path('/content/drive/My Drive/UnpackAi2/AG-News-Topics/models/model.pth')"
            ]
          },
          "metadata": {
            "tags": []
          },
          "execution_count": 18
        }
      ]
    },
    {
      "cell_type": "code",
      "metadata": {
        "id": "axyykQDk7PJD"
      },
      "source": [
        "learn.save_encoder('model_finetuned')"
      ],
      "execution_count": 19,
      "outputs": []
    },
    {
      "cell_type": "markdown",
      "metadata": {
        "id": "sVD7Ekyp8Zml"
      },
      "source": [
        "# **Text Generation**"
      ]
    },
    {
      "cell_type": "markdown",
      "metadata": {
        "id": "XB-Ig8KUQyHz"
      },
      "source": [
        "**Data Classes :  World , Sports , Business , Sci/Tech**\r\n"
      ]
    },
    {
      "cell_type": "markdown",
      "metadata": {
        "id": "_GFtWZGEFkVm"
      },
      "source": [
        "### Generating world-related text"
      ]
    },
    {
      "cell_type": "code",
      "metadata": {
        "colab": {
          "base_uri": "https://localhost:8080/",
          "height": 0
        },
        "id": "vE4NBqET8nt_",
        "outputId": "328a2d13-3c40-4375-b647-267f1fe55587"
      },
      "source": [
        "TEXT = \"global warming\"\r\n",
        "N_WORDS = 40\r\n",
        "N_SENTENCES = 2\r\n",
        "preds = [learn.predict(TEXT, N_WORDS, temperature=0.75) \r\n",
        "         for _ in range(N_SENTENCES)]"
      ],
      "execution_count": 24,
      "outputs": [
        {
          "output_type": "display_data",
          "data": {
            "text/html": [
              ""
            ],
            "text/plain": [
              "<IPython.core.display.HTML object>"
            ]
          },
          "metadata": {
            "tags": []
          }
        },
        {
          "output_type": "display_data",
          "data": {
            "text/html": [
              ""
            ],
            "text/plain": [
              "<IPython.core.display.HTML object>"
            ]
          },
          "metadata": {
            "tags": []
          }
        }
      ]
    },
    {
      "cell_type": "code",
      "metadata": {
        "colab": {
          "base_uri": "https://localhost:8080/"
        },
        "id": "Venwchxm8p3r",
        "outputId": "a69e2fde-03ac-4532-8d65-e4d664c7667c"
      },
      "source": [
        "print(\"\\n\".join(preds))"
      ],
      "execution_count": 25,
      "outputs": [
        {
          "output_type": "stream",
          "text": [
            "global warming : ' we ' ve learned it Insurance Probe Widens to Six Levels Study : Kids Left in Africa Begged for Change Two Blasts\n",
            "global warming ' may be warming ' Blogs Fuel Blogs , Blogs , and Blogs Bayern stun Stuttgart , win again British firms see more jobs abroad New\n"
          ],
          "name": "stdout"
        }
      ]
    },
    {
      "cell_type": "code",
      "metadata": {
        "colab": {
          "base_uri": "https://localhost:8080/"
        },
        "id": "4EXhx3pplone",
        "outputId": "d627944c-4761-4c99-fcec-d640de1a9fad"
      },
      "source": [
        "print(\"\\n\".join(preds))"
      ],
      "execution_count": null,
      "outputs": [
        {
          "output_type": "stream",
          "text": [
            "global warming is in new shape Afghan Blasts Kill at Least 15 ; Taliban Claims Responsibility New Windows Planned for 2006 Oil prices jump over China\n",
            "global warming could deter sale : study Cricket : England beat Sri Lanka in Bangladesh Test ( afp ) Sudan Government Says Rebels Vow to End War\n"
          ],
          "name": "stdout"
        }
      ]
    },
    {
      "cell_type": "markdown",
      "metadata": {
        "id": "xRl9bfuOFVm6"
      },
      "source": [
        "### Generating sports-related text"
      ]
    },
    {
      "cell_type": "code",
      "metadata": {
        "colab": {
          "base_uri": "https://localhost:8080/",
          "height": 0
        },
        "id": "RzaKXSiX8i1m",
        "outputId": "ab24eb4a-8e83-44fa-d94b-d6fbd3baa210"
      },
      "source": [
        "TEXT = \"The game last night\"\r\n",
        "N_WORDS = 40\r\n",
        "N_SENTENCES = 2\r\n",
        "preds = [learn.predict(TEXT, N_WORDS, temperature=0.75) \r\n",
        "         for _ in range(N_SENTENCES)]"
      ],
      "execution_count": 22,
      "outputs": [
        {
          "output_type": "display_data",
          "data": {
            "text/html": [
              ""
            ],
            "text/plain": [
              "<IPython.core.display.HTML object>"
            ]
          },
          "metadata": {
            "tags": []
          }
        },
        {
          "output_type": "display_data",
          "data": {
            "text/html": [
              ""
            ],
            "text/plain": [
              "<IPython.core.display.HTML object>"
            ]
          },
          "metadata": {
            "tags": []
          }
        }
      ]
    },
    {
      "cell_type": "code",
      "metadata": {
        "colab": {
          "base_uri": "https://localhost:8080/"
        },
        "id": "QHJ9ZEXl8lDp",
        "outputId": "1e7b74f7-5cf3-41c1-ef85-0d9b4358437b"
      },
      "source": [
        "print(\"\\n\".join(preds))"
      ],
      "execution_count": 23,
      "outputs": [
        {
          "output_type": "stream",
          "text": [
            "The game last night US Airways pilots vote for pay cuts Israeli Forces Kill Palestinian Girl : Killing Girl ( reuters ) U.S . Men Fail to Reach\n",
            "The game last night Stocks Look to Open Higher ; Oil , CPI Data Weigh Do You Want to Resign ? Scientists Look to Separate Your\n"
          ],
          "name": "stdout"
        }
      ]
    },
    {
      "cell_type": "code",
      "metadata": {
        "colab": {
          "base_uri": "https://localhost:8080/"
        },
        "id": "gO2hOKD1lT6F",
        "outputId": "2b8608ad-1356-4f6b-b362-59e9217a3914"
      },
      "source": [
        "print(\"\\n\".join(preds))"
      ],
      "execution_count": null,
      "outputs": [
        {
          "output_type": "stream",
          "text": [
            "The game last night Howard Stern to Join Sirius Satellite Radio UPDATE * As Roma , Italian held in Palermo Yahoo Unveils Traffic Search Tool\n",
            "The game last night American League Game Summary - Los Angeles at Los Angeles Rice Says He Will Get Disciplined With Storm Is\n"
          ],
          "name": "stdout"
        }
      ]
    },
    {
      "cell_type": "markdown",
      "metadata": {
        "id": "D9EPSoukFHcr"
      },
      "source": [
        "### Generating business-related text"
      ]
    },
    {
      "cell_type": "code",
      "metadata": {
        "colab": {
          "base_uri": "https://localhost:8080/",
          "height": 0
        },
        "id": "k0Ru5fJ18XBy",
        "outputId": "60e0535a-e7c0-409c-eee5-ca17d2a558cd"
      },
      "source": [
        "TEXT = \"The stock market\"\r\n",
        "N_WORDS = 40\r\n",
        "N_SENTENCES = 2\r\n",
        "preds = [learn.predict(TEXT, N_WORDS, temperature=0.75) \r\n",
        "         for _ in range(N_SENTENCES)]"
      ],
      "execution_count": 20,
      "outputs": [
        {
          "output_type": "display_data",
          "data": {
            "text/html": [
              ""
            ],
            "text/plain": [
              "<IPython.core.display.HTML object>"
            ]
          },
          "metadata": {
            "tags": []
          }
        },
        {
          "output_type": "display_data",
          "data": {
            "text/html": [
              ""
            ],
            "text/plain": [
              "<IPython.core.display.HTML object>"
            ]
          },
          "metadata": {
            "tags": []
          }
        }
      ]
    },
    {
      "cell_type": "code",
      "metadata": {
        "colab": {
          "base_uri": "https://localhost:8080/"
        },
        "id": "V_QHGHlG8ZGj",
        "outputId": "d3ae897d-13c2-427b-bb77-bfd03f5a9c6f"
      },
      "source": [
        "print(\"\\n\".join(preds))"
      ],
      "execution_count": 21,
      "outputs": [
        {
          "output_type": "stream",
          "text": [
            "The stock market ' on the horizon ' Not That Long Until 2007 China Netcom to Cut Up to 15 , 000 Jobs by 2008 ( reuters )\n",
            "The stock market returns Stocks Down on Weak Ad Sales , Oil American Greetings Reports 3rd - quarter Profit of \\ $ 13.5 Billion Indians Sign\n"
          ],
          "name": "stdout"
        }
      ]
    },
    {
      "cell_type": "code",
      "metadata": {
        "colab": {
          "base_uri": "https://localhost:8080/"
        },
        "id": "7KmZcnFFk2qf",
        "outputId": "34d5f964-db45-4e54-cf32-03a9b2abef82"
      },
      "source": [
        "print(\"\\n\".join(preds))"
      ],
      "execution_count": null,
      "outputs": [
        {
          "output_type": "stream",
          "text": [
            "The stock market in a hurry Sharon Seeks to Back Labor Policies , Labor Policies ( reuters ) Three Dutch Police Killed in Blast ( ap )\n",
            "The stock market comes to a close against Google China 's Yudhoyono Sworn in as President US Airways Seeks Financing Financing Financing New Attitude : Prince\n"
          ],
          "name": "stdout"
        }
      ]
    },
    {
      "cell_type": "markdown",
      "metadata": {
        "id": "-pHqyqy8FwaJ"
      },
      "source": [
        "### Generating Sci/Tech-related text"
      ]
    },
    {
      "cell_type": "code",
      "metadata": {
        "colab": {
          "base_uri": "https://localhost:8080/",
          "height": 0
        },
        "id": "bnWICbYh8r6I",
        "outputId": "60d4e105-c0d5-4a6c-c87c-e628a5e93bb4"
      },
      "source": [
        "TEXT = \"graphics card\"\r\n",
        "N_WORDS = 40\r\n",
        "N_SENTENCES = 2\r\n",
        "preds = [learn.predict(TEXT, N_WORDS, temperature=0.75) \r\n",
        "         for _ in range(N_SENTENCES)]"
      ],
      "execution_count": 26,
      "outputs": [
        {
          "output_type": "display_data",
          "data": {
            "text/html": [
              ""
            ],
            "text/plain": [
              "<IPython.core.display.HTML object>"
            ]
          },
          "metadata": {
            "tags": []
          }
        },
        {
          "output_type": "display_data",
          "data": {
            "text/html": [
              ""
            ],
            "text/plain": [
              "<IPython.core.display.HTML object>"
            ]
          },
          "metadata": {
            "tags": []
          }
        }
      ]
    },
    {
      "cell_type": "code",
      "metadata": {
        "colab": {
          "base_uri": "https://localhost:8080/"
        },
        "id": "lqt1hI3t8uJI",
        "outputId": "9e54c126-1d20-4950-dc33-47c2d1e4f4db"
      },
      "source": [
        "print(\"\\n\".join(preds))"
      ],
      "execution_count": 27,
      "outputs": [
        {
          "output_type": "stream",
          "text": [
            "graphics card industry cools Ballmer : Linux Can Withstand High Oil a Comeback Comeback for Mcgill Park Keeps Winning Run at Oakland Hills\n",
            "graphics card for free speech software Taylor Charged With Referee Violations Afghan Kidnappers Vow to Keep Taliban In Kabul Rossi clinches podium in Portuguese\n"
          ],
          "name": "stdout"
        }
      ]
    },
    {
      "cell_type": "code",
      "metadata": {
        "colab": {
          "base_uri": "https://localhost:8080/"
        },
        "id": "TpX5Aarqmk9r",
        "outputId": "a610e66c-14cd-423d-ebc2-6348044ccdcc"
      },
      "source": [
        "print(\"\\n\".join(preds))"
      ],
      "execution_count": null,
      "outputs": [
        {
          "output_type": "stream",
          "text": [
            "graphics card users not guilty Google IPO Close to End Two - way tie ends for Astros Group Urges Local Managers to Take Shelter US\n",
            "graphics card software for Mac pcs New York Knicks Bush Signs Corporate Tax Cut Bill ( ap ) Windows Media Player 2 Now Available\n"
          ],
          "name": "stdout"
        }
      ]
    },
    {
      "cell_type": "markdown",
      "metadata": {
        "id": "iuXOVX5N9jPt"
      },
      "source": [
        "# **Classifier**"
      ]
    },
    {
      "cell_type": "markdown",
      "metadata": {
        "id": "dZNKgsGjJAOs"
      },
      "source": [
        "### Creating DataLoaders for the Classifier"
      ]
    },
    {
      "cell_type": "code",
      "metadata": {
        "colab": {
          "base_uri": "https://localhost:8080/",
          "height": 0
        },
        "id": "hA35Xpik9lgy",
        "outputId": "f6d2cc15-5f38-4157-e50a-9276ca79f40b"
      },
      "source": [
        "path = Path('/content/drive/My Drive/UnpackAi2/AG-News-Topics/')\r\n",
        "dl_clas = TextDataLoaders.from_csv(path=path, csv_fname='train.csv' ,\r\n",
        "                                 text_col='Title', label_col='Class', seq_len=72 , bs=64)\r\n",
        "dl_clas.show_batch(max_n=3)"
      ],
      "execution_count": 29,
      "outputs": [
        {
          "output_type": "display_data",
          "data": {
            "text/html": [
              ""
            ],
            "text/plain": [
              "<IPython.core.display.HTML object>"
            ]
          },
          "metadata": {
            "tags": []
          }
        },
        {
          "output_type": "stream",
          "text": [
            "/usr/local/lib/python3.6/dist-packages/numpy/core/_asarray.py:83: VisibleDeprecationWarning: Creating an ndarray from ragged nested sequences (which is a list-or-tuple of lists-or-tuples-or ndarrays with different lengths or shapes) is deprecated. If you meant to do this, you must specify 'dtype=object' when creating the ndarray\n",
            "  return array(a, dtype, copy=False, order=order)\n"
          ],
          "name": "stderr"
        },
        {
          "output_type": "display_data",
          "data": {
            "text/html": [
              "<table border=\"1\" class=\"dataframe\">\n",
              "  <thead>\n",
              "    <tr style=\"text-align: right;\">\n",
              "      <th></th>\n",
              "      <th>text</th>\n",
              "      <th>category</th>\n",
              "    </tr>\n",
              "  </thead>\n",
              "  <tbody>\n",
              "    <tr>\n",
              "      <th>0</th>\n",
              "      <td>xxbos xxup at &amp; t 's xxmaj gambit : xxmaj relying xxmaj on xxmaj automation xxmaj to xxmaj make xxmaj up xxmaj for 12 , xxrep 3 0 xxmaj fewer &lt; b &gt; … &lt; / b &gt;</td>\n",
              "      <td>4</td>\n",
              "    </tr>\n",
              "    <tr>\n",
              "      <th>1</th>\n",
              "      <td>xxbos xxup football : i xxup will xxup bring xxup the xxup glory xxup glory xxup days xxup back xxup to xxup spurs .. &lt; b &gt; … &lt; / b &gt;</td>\n",
              "      <td>2</td>\n",
              "    </tr>\n",
              "    <tr>\n",
              "      <th>2</th>\n",
              "      <td>xxbos xxmaj putin 's xxmaj war xxmaj if xxmaj putin xxmaj refuses to xxmaj change xxmaj course xxmaj russia 's xxmaj future is &lt; b &gt; … &lt; / b &gt;</td>\n",
              "      <td>1</td>\n",
              "    </tr>\n",
              "  </tbody>\n",
              "</table>"
            ],
            "text/plain": [
              "<IPython.core.display.HTML object>"
            ]
          },
          "metadata": {
            "tags": []
          }
        }
      ]
    },
    {
      "cell_type": "code",
      "metadata": {
        "id": "rbMgOlzT_kG4"
      },
      "source": [
        "learn = text_classifier_learner(dl_clas, AWD_LSTM, drop_mult=0.5, \r\n",
        "                                metrics=accuracy).to_fp16()"
      ],
      "execution_count": 31,
      "outputs": []
    },
    {
      "cell_type": "markdown",
      "metadata": {
        "id": "vVaL-q3XIxnU"
      },
      "source": [
        "### Loading the Language Model "
      ]
    },
    {
      "cell_type": "code",
      "metadata": {
        "id": "KXFyvIBfAQG-"
      },
      "source": [
        "learn = learn.load_encoder('model_finetuned')"
      ],
      "execution_count": 32,
      "outputs": []
    },
    {
      "cell_type": "code",
      "metadata": {
        "colab": {
          "base_uri": "https://localhost:8080/",
          "height": 0
        },
        "id": "UlYu9TtbAiMY",
        "outputId": "74afc1cc-0d07-42dc-9929-9eb2a0f9bc67"
      },
      "source": [
        "learn.fit_one_cycle(1, 2e-2)"
      ],
      "execution_count": 33,
      "outputs": [
        {
          "output_type": "display_data",
          "data": {
            "text/html": [
              "<table border=\"1\" class=\"dataframe\">\n",
              "  <thead>\n",
              "    <tr style=\"text-align: left;\">\n",
              "      <th>epoch</th>\n",
              "      <th>train_loss</th>\n",
              "      <th>valid_loss</th>\n",
              "      <th>accuracy</th>\n",
              "      <th>time</th>\n",
              "    </tr>\n",
              "  </thead>\n",
              "  <tbody>\n",
              "    <tr>\n",
              "      <td>0</td>\n",
              "      <td>0.531241</td>\n",
              "      <td>0.442717</td>\n",
              "      <td>0.842500</td>\n",
              "      <td>02:25</td>\n",
              "    </tr>\n",
              "  </tbody>\n",
              "</table>"
            ],
            "text/plain": [
              "<IPython.core.display.HTML object>"
            ]
          },
          "metadata": {
            "tags": []
          }
        }
      ]
    },
    {
      "cell_type": "code",
      "metadata": {
        "colab": {
          "base_uri": "https://localhost:8080/",
          "height": 0
        },
        "id": "udND8h2JA7N4",
        "outputId": "5918044c-e5b3-4d0f-9a7b-3fa04cb63e59"
      },
      "source": [
        "learn.freeze_to(-2)\r\n",
        "learn.fit_one_cycle(1, slice(1e-2/(2.6**4),1e-2))"
      ],
      "execution_count": 34,
      "outputs": [
        {
          "output_type": "display_data",
          "data": {
            "text/html": [
              "<table border=\"1\" class=\"dataframe\">\n",
              "  <thead>\n",
              "    <tr style=\"text-align: left;\">\n",
              "      <th>epoch</th>\n",
              "      <th>train_loss</th>\n",
              "      <th>valid_loss</th>\n",
              "      <th>accuracy</th>\n",
              "      <th>time</th>\n",
              "    </tr>\n",
              "  </thead>\n",
              "  <tbody>\n",
              "    <tr>\n",
              "      <td>0</td>\n",
              "      <td>0.442179</td>\n",
              "      <td>0.371486</td>\n",
              "      <td>0.865917</td>\n",
              "      <td>02:24</td>\n",
              "    </tr>\n",
              "  </tbody>\n",
              "</table>"
            ],
            "text/plain": [
              "<IPython.core.display.HTML object>"
            ]
          },
          "metadata": {
            "tags": []
          }
        }
      ]
    },
    {
      "cell_type": "code",
      "metadata": {
        "colab": {
          "base_uri": "https://localhost:8080/",
          "height": 0
        },
        "id": "TdiX8CjPA-qj",
        "outputId": "7cca068d-3431-4881-9e50-fe6e773886d2"
      },
      "source": [
        "learn.freeze_to(-3)\r\n",
        "learn.fit_one_cycle(1, slice(5e-3/(2.6**4),5e-3))"
      ],
      "execution_count": 35,
      "outputs": [
        {
          "output_type": "display_data",
          "data": {
            "text/html": [
              "<table border=\"1\" class=\"dataframe\">\n",
              "  <thead>\n",
              "    <tr style=\"text-align: left;\">\n",
              "      <th>epoch</th>\n",
              "      <th>train_loss</th>\n",
              "      <th>valid_loss</th>\n",
              "      <th>accuracy</th>\n",
              "      <th>time</th>\n",
              "    </tr>\n",
              "  </thead>\n",
              "  <tbody>\n",
              "    <tr>\n",
              "      <td>0</td>\n",
              "      <td>0.378211</td>\n",
              "      <td>0.331651</td>\n",
              "      <td>0.881792</td>\n",
              "      <td>02:30</td>\n",
              "    </tr>\n",
              "  </tbody>\n",
              "</table>"
            ],
            "text/plain": [
              "<IPython.core.display.HTML object>"
            ]
          },
          "metadata": {
            "tags": []
          }
        }
      ]
    },
    {
      "cell_type": "code",
      "metadata": {
        "colab": {
          "base_uri": "https://localhost:8080/",
          "height": 0
        },
        "id": "1v0VMrSRCd_4",
        "outputId": "2955aa00-8f3a-47d4-ad5e-66487c38fd3f"
      },
      "source": [
        "learn.unfreeze()\r\n",
        "learn.fit_one_cycle(10, slice(1e-3/(2.6**4),1e-3))"
      ],
      "execution_count": 36,
      "outputs": [
        {
          "output_type": "display_data",
          "data": {
            "text/html": [
              "<table border=\"1\" class=\"dataframe\">\n",
              "  <thead>\n",
              "    <tr style=\"text-align: left;\">\n",
              "      <th>epoch</th>\n",
              "      <th>train_loss</th>\n",
              "      <th>valid_loss</th>\n",
              "      <th>accuracy</th>\n",
              "      <th>time</th>\n",
              "    </tr>\n",
              "  </thead>\n",
              "  <tbody>\n",
              "    <tr>\n",
              "      <td>0</td>\n",
              "      <td>0.342490</td>\n",
              "      <td>0.326915</td>\n",
              "      <td>0.885083</td>\n",
              "      <td>02:35</td>\n",
              "    </tr>\n",
              "    <tr>\n",
              "      <td>1</td>\n",
              "      <td>0.321416</td>\n",
              "      <td>0.320119</td>\n",
              "      <td>0.887375</td>\n",
              "      <td>02:36</td>\n",
              "    </tr>\n",
              "    <tr>\n",
              "      <td>2</td>\n",
              "      <td>0.299299</td>\n",
              "      <td>0.315556</td>\n",
              "      <td>0.890958</td>\n",
              "      <td>02:36</td>\n",
              "    </tr>\n",
              "    <tr>\n",
              "      <td>3</td>\n",
              "      <td>0.278863</td>\n",
              "      <td>0.316530</td>\n",
              "      <td>0.892708</td>\n",
              "      <td>02:37</td>\n",
              "    </tr>\n",
              "    <tr>\n",
              "      <td>4</td>\n",
              "      <td>0.234864</td>\n",
              "      <td>0.322229</td>\n",
              "      <td>0.892292</td>\n",
              "      <td>02:39</td>\n",
              "    </tr>\n",
              "    <tr>\n",
              "      <td>5</td>\n",
              "      <td>0.234449</td>\n",
              "      <td>0.324021</td>\n",
              "      <td>0.893250</td>\n",
              "      <td>02:39</td>\n",
              "    </tr>\n",
              "    <tr>\n",
              "      <td>6</td>\n",
              "      <td>0.218597</td>\n",
              "      <td>0.337620</td>\n",
              "      <td>0.894208</td>\n",
              "      <td>02:37</td>\n",
              "    </tr>\n",
              "    <tr>\n",
              "      <td>7</td>\n",
              "      <td>0.195955</td>\n",
              "      <td>0.345355</td>\n",
              "      <td>0.894000</td>\n",
              "      <td>02:36</td>\n",
              "    </tr>\n",
              "    <tr>\n",
              "      <td>8</td>\n",
              "      <td>0.197232</td>\n",
              "      <td>0.348352</td>\n",
              "      <td>0.893750</td>\n",
              "      <td>02:36</td>\n",
              "    </tr>\n",
              "    <tr>\n",
              "      <td>9</td>\n",
              "      <td>0.177624</td>\n",
              "      <td>0.349325</td>\n",
              "      <td>0.893208</td>\n",
              "      <td>02:36</td>\n",
              "    </tr>\n",
              "  </tbody>\n",
              "</table>"
            ],
            "text/plain": [
              "<IPython.core.display.HTML object>"
            ]
          },
          "metadata": {
            "tags": []
          }
        }
      ]
    },
    {
      "cell_type": "markdown",
      "metadata": {
        "id": "XBxgZtWnKSUa"
      },
      "source": [
        "### Predictions"
      ]
    },
    {
      "cell_type": "markdown",
      "metadata": {
        "id": "iaZH5vN7Kt31"
      },
      "source": [
        "World = 1 ,\r\n",
        "Sports = 2 , \r\n",
        "Business= 3 ,\r\n",
        "Sci/Tech = 4\r\n"
      ]
    },
    {
      "cell_type": "code",
      "metadata": {
        "colab": {
          "base_uri": "https://localhost:8080/",
          "height": 0
        },
        "id": "uuj7nMCMKEgv",
        "outputId": "f2a12a53-273b-4fb1-f4ea-546475d132d9"
      },
      "source": [
        "learn.predict(\"The basketball game was postponed because all the players got sick\")"
      ],
      "execution_count": 37,
      "outputs": [
        {
          "output_type": "display_data",
          "data": {
            "text/html": [
              ""
            ],
            "text/plain": [
              "<IPython.core.display.HTML object>"
            ]
          },
          "metadata": {
            "tags": []
          }
        },
        {
          "output_type": "execute_result",
          "data": {
            "text/plain": [
              "('2', tensor(1), tensor([8.0088e-06, 9.9940e-01, 4.9919e-04, 9.3463e-05]))"
            ]
          },
          "metadata": {
            "tags": []
          },
          "execution_count": 37
        }
      ]
    },
    {
      "cell_type": "code",
      "metadata": {
        "colab": {
          "base_uri": "https://localhost:8080/",
          "height": 0
        },
        "id": "6HaU4py4PKyW",
        "outputId": "833be41e-5382-4253-ac57-524fae6fb43f"
      },
      "source": [
        "learn.predict(\"when will world war 3 start\")"
      ],
      "execution_count": 47,
      "outputs": [
        {
          "output_type": "display_data",
          "data": {
            "text/html": [
              ""
            ],
            "text/plain": [
              "<IPython.core.display.HTML object>"
            ]
          },
          "metadata": {
            "tags": []
          }
        },
        {
          "output_type": "execute_result",
          "data": {
            "text/plain": [
              "('1', tensor(0), tensor([0.9086, 0.0080, 0.0181, 0.0653]))"
            ]
          },
          "metadata": {
            "tags": []
          },
          "execution_count": 47
        }
      ]
    },
    {
      "cell_type": "code",
      "metadata": {
        "colab": {
          "base_uri": "https://localhost:8080/",
          "height": 0
        },
        "id": "tRNxKuZUPbBU",
        "outputId": "8a92f357-89f0-488a-a629-2748e94aa8f9"
      },
      "source": [
        "learn.predict(\"where was the kingdom of kush located\")"
      ],
      "execution_count": 48,
      "outputs": [
        {
          "output_type": "display_data",
          "data": {
            "text/html": [
              ""
            ],
            "text/plain": [
              "<IPython.core.display.HTML object>"
            ]
          },
          "metadata": {
            "tags": []
          }
        },
        {
          "output_type": "execute_result",
          "data": {
            "text/plain": [
              "('4', tensor(3), tensor([0.2728, 0.0184, 0.0570, 0.6518]))"
            ]
          },
          "metadata": {
            "tags": []
          },
          "execution_count": 48
        }
      ]
    },
    {
      "cell_type": "code",
      "metadata": {
        "colab": {
          "base_uri": "https://localhost:8080/",
          "height": 0
        },
        "id": "EInzXbggMO-X",
        "outputId": "1321286b-2386-4ae5-f56d-2f03f8f728c2"
      },
      "source": [
        "learn.predict(\"The COVID-19 pandemic is unleashing a new era of change for businesses\")"
      ],
      "execution_count": 39,
      "outputs": [
        {
          "output_type": "display_data",
          "data": {
            "text/html": [
              ""
            ],
            "text/plain": [
              "<IPython.core.display.HTML object>"
            ]
          },
          "metadata": {
            "tags": []
          }
        },
        {
          "output_type": "execute_result",
          "data": {
            "text/plain": [
              "('3', tensor(2), tensor([9.7749e-02, 5.2909e-04, 8.2627e-01, 7.5451e-02]))"
            ]
          },
          "metadata": {
            "tags": []
          },
          "execution_count": 39
        }
      ]
    },
    {
      "cell_type": "code",
      "metadata": {
        "colab": {
          "base_uri": "https://localhost:8080/",
          "height": 0
        },
        "id": "O0avJQBBLhGa",
        "outputId": "0621d9f1-0b2c-4f7a-dcb6-cbddd730cdc6"
      },
      "source": [
        "learn.predict(\"fastai is a deep learning library which provides practitioners with high-level components\")"
      ],
      "execution_count": 38,
      "outputs": [
        {
          "output_type": "display_data",
          "data": {
            "text/html": [
              ""
            ],
            "text/plain": [
              "<IPython.core.display.HTML object>"
            ]
          },
          "metadata": {
            "tags": []
          }
        },
        {
          "output_type": "execute_result",
          "data": {
            "text/plain": [
              "('4', tensor(3), tensor([0.0010, 0.0016, 0.2947, 0.7028]))"
            ]
          },
          "metadata": {
            "tags": []
          },
          "execution_count": 38
        }
      ]
    },
    {
      "cell_type": "code",
      "metadata": {
        "colab": {
          "base_uri": "https://localhost:8080/",
          "height": 0
        },
        "id": "MGO7mOYdNTCf",
        "outputId": "ce5bd007-dad3-4bf0-f61d-e23f075d7b1b"
      },
      "source": [
        "learn.predict(\"Coronavirus disease is an infectious disease caused by a newly discovered coronavirus\")"
      ],
      "execution_count": 41,
      "outputs": [
        {
          "output_type": "display_data",
          "data": {
            "text/html": [
              ""
            ],
            "text/plain": [
              "<IPython.core.display.HTML object>"
            ]
          },
          "metadata": {
            "tags": []
          }
        },
        {
          "output_type": "execute_result",
          "data": {
            "text/plain": [
              "('4', tensor(3), tensor([1.3119e-01, 6.0485e-04, 1.8184e-02, 8.5003e-01]))"
            ]
          },
          "metadata": {
            "tags": []
          },
          "execution_count": 41
        }
      ]
    },
    {
      "cell_type": "code",
      "metadata": {
        "colab": {
          "base_uri": "https://localhost:8080/",
          "height": 0
        },
        "id": "pXUiBtDdNr6Y",
        "outputId": "a0c695a8-b444-4e1b-d924-33e418c105d1"
      },
      "source": [
        "learn.predict(\"COVID-19 is Changing the Ecommerce Landscape\")"
      ],
      "execution_count": 42,
      "outputs": [
        {
          "output_type": "display_data",
          "data": {
            "text/html": [
              ""
            ],
            "text/plain": [
              "<IPython.core.display.HTML object>"
            ]
          },
          "metadata": {
            "tags": []
          }
        },
        {
          "output_type": "execute_result",
          "data": {
            "text/plain": [
              "('4', tensor(3), tensor([0.0280, 0.0770, 0.1661, 0.7289]))"
            ]
          },
          "metadata": {
            "tags": []
          },
          "execution_count": 42
        }
      ]
    },
    {
      "cell_type": "code",
      "metadata": {
        "colab": {
          "base_uri": "https://localhost:8080/",
          "height": 0
        },
        "id": "Ht1E6XDDN1b8",
        "outputId": "26a2dfe9-c781-4c2b-e550-80e90acf51d2"
      },
      "source": [
        "learn.predict(\"what is COVID-19 \")"
      ],
      "execution_count": 43,
      "outputs": [
        {
          "output_type": "display_data",
          "data": {
            "text/html": [
              ""
            ],
            "text/plain": [
              "<IPython.core.display.HTML object>"
            ]
          },
          "metadata": {
            "tags": []
          }
        },
        {
          "output_type": "execute_result",
          "data": {
            "text/plain": [
              "('2', tensor(1), tensor([0.0105, 0.5508, 0.4166, 0.0221]))"
            ]
          },
          "metadata": {
            "tags": []
          },
          "execution_count": 43
        }
      ]
    },
    {
      "cell_type": "code",
      "metadata": {
        "colab": {
          "base_uri": "https://localhost:8080/",
          "height": 0
        },
        "id": "JMu3pIagN_67",
        "outputId": "1353c0ae-9269-4e4d-de17-00d10ebbb82f"
      },
      "source": [
        "learn.predict(\"Who is Coronavirus \")"
      ],
      "execution_count": 44,
      "outputs": [
        {
          "output_type": "display_data",
          "data": {
            "text/html": [
              ""
            ],
            "text/plain": [
              "<IPython.core.display.HTML object>"
            ]
          },
          "metadata": {
            "tags": []
          }
        },
        {
          "output_type": "execute_result",
          "data": {
            "text/plain": [
              "('2', tensor(1), tensor([0.4066, 0.5757, 0.0145, 0.0032]))"
            ]
          },
          "metadata": {
            "tags": []
          },
          "execution_count": 44
        }
      ]
    },
    {
      "cell_type": "code",
      "metadata": {
        "colab": {
          "base_uri": "https://localhost:8080/",
          "height": 0
        },
        "id": "tZgIUtMlOOPM",
        "outputId": "5a2a49e4-7617-4b18-87f9-1b95735872be"
      },
      "source": [
        "learn.predict(\"What is Coronavirus \")"
      ],
      "execution_count": 45,
      "outputs": [
        {
          "output_type": "display_data",
          "data": {
            "text/html": [
              ""
            ],
            "text/plain": [
              "<IPython.core.display.HTML object>"
            ]
          },
          "metadata": {
            "tags": []
          }
        },
        {
          "output_type": "execute_result",
          "data": {
            "text/plain": [
              "('2', tensor(1), tensor([0.0364, 0.5309, 0.4216, 0.0110]))"
            ]
          },
          "metadata": {
            "tags": []
          },
          "execution_count": 45
        }
      ]
    },
    {
      "cell_type": "code",
      "metadata": {
        "colab": {
          "base_uri": "https://localhost:8080/",
          "height": 0
        },
        "id": "_Eh0JsvwO2Ss",
        "outputId": "dc803c1a-879b-4592-c962-0a97132617d8"
      },
      "source": [
        "learn.predict(\"Retail businesses around the world over are being affected by COVID-19\")"
      ],
      "execution_count": 46,
      "outputs": [
        {
          "output_type": "display_data",
          "data": {
            "text/html": [
              ""
            ],
            "text/plain": [
              "<IPython.core.display.HTML object>"
            ]
          },
          "metadata": {
            "tags": []
          }
        },
        {
          "output_type": "execute_result",
          "data": {
            "text/plain": [
              "('3', tensor(2), tensor([6.5184e-04, 1.4512e-06, 9.9438e-01, 4.9621e-03]))"
            ]
          },
          "metadata": {
            "tags": []
          },
          "execution_count": 46
        }
      ]
    },
    {
      "cell_type": "code",
      "metadata": {
        "colab": {
          "base_uri": "https://localhost:8080/"
        },
        "id": "_1Z4jf60JW_c",
        "outputId": "dab5ab3b-7800-4797-bea9-a360cf7ff027"
      },
      "source": [
        "learn.save('classifier',with_opt=True)"
      ],
      "execution_count": 49,
      "outputs": [
        {
          "output_type": "execute_result",
          "data": {
            "text/plain": [
              "Path('/content/drive/My Drive/UnpackAi2/AG-News-Topics/models/classifier.pth')"
            ]
          },
          "metadata": {
            "tags": []
          },
          "execution_count": 49
        }
      ]
    }
  ]
}